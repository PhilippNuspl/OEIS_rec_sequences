{
 "cells": [
  {
   "cell_type": "markdown",
   "id": "e0802d9b",
   "metadata": {},
   "source": [
    "File used to scrape the C-finite sequences from the Wiki page of the OEIS (http://oeis.org/wiki/Index_to_OEIS:_Section_Rec)"
   ]
  },
  {
   "cell_type": "code",
   "execution_count": null,
   "id": "7c7883a1",
   "metadata": {},
   "outputs": [],
   "source": [
    "# maximal index of sequences which should be considered\n",
    "maximal_index = 359659 \n",
    "# where should indices of scraped sequences be saved?\n",
    "file_name = \"scraped_cfin\""
   ]
  },
  {
   "cell_type": "code",
   "execution_count": null,
   "id": "a32d0ead",
   "metadata": {},
   "outputs": [],
   "source": [
    "import requests\n",
    "from urllib.parse import urlparse, urljoin\n",
    "from bs4 import BeautifulSoup\n",
    "import pickle\n",
    "\n",
    "seqs = []\n",
    "\n",
    "url = \"http://oeis.org/wiki/Index_to_OEIS:_Section_Rec\"\n",
    "\n",
    "domain_name = urlparse(url).netloc\n",
    "soup = BeautifulSoup(requests.get(url).content, \"html.parser\")\n",
    "\n",
    "for a_tag in soup.findAll(\"a\") :\n",
    "    text = a_tag.string\n",
    "    if text and len(text) == 7 and text[0] == 'A' and int(text[1:]) <= maximal_index:\n",
    "        seqs.append(str(text))\n",
    "        \n",
    "print(f\"{len(seqs)} C-finite sequences found\")\n",
    "print(f\"dump them in {file_name}.pickle\")\n",
    "with open(f\"{file_name}.pickle\", 'wb') as handle:\n",
    "    pickle.dump(seqs, handle, protocol=pickle.HIGHEST_PROTOCOL)"
   ]
  }
 ],
 "metadata": {
  "kernelspec": {
   "display_name": "SageMath 9.5",
   "language": "sage",
   "name": "sagemath"
  },
  "language_info": {
   "codemirror_mode": {
    "name": "ipython",
    "version": 3
   },
   "file_extension": ".py",
   "mimetype": "text/x-python",
   "name": "python",
   "nbconvert_exporter": "python",
   "pygments_lexer": "ipython3",
   "version": "3.9.9"
  }
 },
 "nbformat": 4,
 "nbformat_minor": 5
}
