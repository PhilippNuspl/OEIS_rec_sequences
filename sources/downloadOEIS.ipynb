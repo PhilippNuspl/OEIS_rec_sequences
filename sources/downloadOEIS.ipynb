{
 "cells": [
  {
   "cell_type": "markdown",
   "id": "1f47b5fc",
   "metadata": {},
   "source": [
    "This notebook can be used to download all sequences together with their terms (in the corresponding b-files) from the OEIS."
   ]
  },
  {
   "cell_type": "code",
   "execution_count": null,
   "id": "43087eb5",
   "metadata": {},
   "outputs": [],
   "source": [
    "file_name = \"all_sequences/bfiles\" # folder and file name for the pickle files which should contain all sequences\n",
    "log_file = \"oeis_download.log\" # name of log file \n",
    "max_index = 359813 # maximum index (A...) of sequence which should be downloaded (e.g. 1000) for downloading the first 1000 sequences \n",
    "num_processes = 8 # how many threads should be used to download the sequences in parallel\n",
    "chunk_size = 2000 # chunks of sequences are saved in one file together; how big should these chunks be?"
   ]
  },
  {
   "cell_type": "code",
   "execution_count": null,
   "id": "937218d3",
   "metadata": {},
   "outputs": [],
   "source": [
    "from utility import save, get_terms\n",
    "from tqdm import tqdm\n",
    "import multiprocess as mp\n",
    "import numpy as np\n",
    "import logging\n",
    "\n",
    "logging.basicConfig(filename=log_file, encoding=\"utf-8\", level=logging.DEBUG)\n",
    "all_indices = list(range(1, max_index+1))\n",
    "indices_chunks = [all_indices[i:i + chunk_size] for i in range(0, len(all_indices), chunk_size)]\n",
    "\n",
    "for i, chunk in enumerate(indices_chunks) :\n",
    "    pool = mp.Pool(num_processes)\n",
    "    all_sequences = dict()\n",
    "    \n",
    "    for result in pool.map(get_terms, chunk):\n",
    "        if result :\n",
    "            name, start_index, terms = result\n",
    "            all_sequences[name] = (start_index, terms)\n",
    "\n",
    "    pool.close()\n",
    "    pool.join()\n",
    "\n",
    "    save(all_sequences, file_name + str(i))\n",
    "    print(f\"Chunk {i} finished and saved\")"
   ]
  }
 ],
 "metadata": {
  "kernelspec": {
   "display_name": "SageMath 9.5",
   "language": "sage",
   "name": "sagemath"
  },
  "language_info": {
   "codemirror_mode": {
    "name": "ipython",
    "version": 3
   },
   "file_extension": ".py",
   "mimetype": "text/x-python",
   "name": "python",
   "nbconvert_exporter": "python",
   "pygments_lexer": "ipython3",
   "version": "3.9.9"
  }
 },
 "nbformat": 4,
 "nbformat_minor": 5
}
