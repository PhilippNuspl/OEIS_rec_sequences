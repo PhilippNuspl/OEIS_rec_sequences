{
 "cells": [
  {
   "cell_type": "markdown",
   "id": "e0e826d8",
   "metadata": {},
   "source": [
    "This notebook can be used to analyse the number of terms for the sequences given in the OEIS."
   ]
  },
  {
   "cell_type": "code",
   "execution_count": null,
   "id": "0a0acc8d",
   "metadata": {},
   "outputs": [],
   "source": [
    "sequences_folder = \"all_sequences\" # folder which contains pickle files of all sequences"
   ]
  },
  {
   "cell_type": "code",
   "execution_count": null,
   "id": "bc9408f1",
   "metadata": {},
   "outputs": [],
   "source": [
    "import os\n",
    "import pickle\n",
    "from collections import Counter"
   ]
  },
  {
   "cell_type": "code",
   "execution_count": null,
   "id": "c539f8b6",
   "metadata": {},
   "outputs": [],
   "source": [
    "directory = os.fsencode(sequences_folder)\n",
    "number_of_terms = []\n",
    "number_of_sequences = 0\n",
    "    \n",
    "for file in os.listdir(directory):\n",
    "    filename = os.fsdecode(file)\n",
    "    if filename.endswith(\".pickle\") : \n",
    "        filename = os.path.join(sequences_folder, filename)\n",
    "        with open(filename, \"rb\") as pickle_file:\n",
    "            sequences = pickle.load(pickle_file)\n",
    "            for name, seq in sequences.items() :\n",
    "                number_of_sequences += 1\n",
    "                number_of_terms.append(len(seq[1]))\n",
    "number_of_terms_counter = Counter(number_of_terms)"
   ]
  },
  {
   "cell_type": "code",
   "execution_count": null,
   "id": "c316c5d2",
   "metadata": {},
   "outputs": [],
   "source": [
    "print(number_of_sequences)"
   ]
  },
  {
   "cell_type": "code",
   "execution_count": null,
   "id": "deb64be9",
   "metadata": {},
   "outputs": [],
   "source": [
    "maximal_number_terms = [5, 10, 20, 50, 99]\n",
    "for max_terms in maximal_number_terms :\n",
    "    print(f\"Percentage of sequences with maximal {max_terms} terms:\")\n",
    "    print(numerical_approx(sum(number_of_terms_counter[i] for i in range(max_terms+1))/number_of_sequences, digits=2))"
   ]
  },
  {
   "cell_type": "code",
   "execution_count": null,
   "id": "94d28120",
   "metadata": {},
   "outputs": [],
   "source": [
    "minimal_number_terms = [0, 50, 100, 1000, 5000, 9000, 9900]\n",
    "for min_terms in minimal_number_terms :\n",
    "    num_terms = 10000-min_terms\n",
    "    print(f\"Percentage of sequences with at least {num_terms} terms:\")\n",
    "    sum_sequences = 0\n",
    "    for key in sorted(number_of_terms_counter.keys(), reverse=True) :\n",
    "        if key < num_terms :\n",
    "            break\n",
    "        sum_sequences += number_of_terms_counter[key]\n",
    "    print(numerical_approx(sum_sequences/number_of_sequences, digits=2))"
   ]
  },
  {
   "cell_type": "code",
   "execution_count": null,
   "id": "f16d0fd9",
   "metadata": {},
   "outputs": [],
   "source": [
    "bins =  [0] + [i*20+21 for i in range(5)] + [i*200+201 for i in range(0,5)] + [i*2000+2001 for i in range(0,5)] + [max(number_of_terms_counter)]\n",
    "print(bins)"
   ]
  },
  {
   "cell_type": "code",
   "execution_count": null,
   "id": "bfcdb2c4",
   "metadata": {},
   "outputs": [],
   "source": [
    "import numpy as np\n",
    "import matplotlib.pyplot as plt"
   ]
  },
  {
   "cell_type": "code",
   "execution_count": null,
   "id": "7d4c38fb",
   "metadata": {},
   "outputs": [],
   "source": [
    "hist = np.histogram(number_of_terms, bins=bins)\n",
    "print(hist)"
   ]
  },
  {
   "cell_type": "code",
   "execution_count": null,
   "id": "c731da50",
   "metadata": {},
   "outputs": [],
   "source": [
    "plt.bar([f\"$\\\\leq${bin-1}\" for bin in hist[1][1:-1]]+[f\"$>$ {hist[1][-2]-1}\"], hist[0], color=plt.cm.tab20(1))\n",
    "plt.rcParams[\"figure.figsize\"] = (25, 5)\n",
    "plt.rcParams.update({'font.size': 15})\n",
    "plt.savefig('numberOfTerms.png')\n",
    "plt.show()"
   ]
  }
 ],
 "metadata": {
  "kernelspec": {
   "display_name": "SageMath 9.5",
   "language": "sage",
   "name": "sagemath"
  },
  "language_info": {
   "codemirror_mode": {
    "name": "ipython",
    "version": 3
   },
   "file_extension": ".py",
   "mimetype": "text/x-python",
   "name": "python",
   "nbconvert_exporter": "python",
   "pygments_lexer": "ipython3",
   "version": "3.9.9"
  }
 },
 "nbformat": 4,
 "nbformat_minor": 5
}
